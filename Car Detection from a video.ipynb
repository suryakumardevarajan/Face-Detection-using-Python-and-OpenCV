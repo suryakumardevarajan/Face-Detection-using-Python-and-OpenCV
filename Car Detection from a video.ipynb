{
 "cells": [
  {
   "cell_type": "markdown",
   "metadata": {},
   "source": [
    "## Car Detection from a video"
   ]
  },
  {
   "cell_type": "code",
   "execution_count": 1,
   "metadata": {},
   "outputs": [],
   "source": [
    "import cv2"
   ]
  },
  {
   "cell_type": "markdown",
   "metadata": {},
   "source": [
    "define a video capture object, cv2.VideoCapture(filename, index). If you give index 0, it will open the single video source which is the webcam"
   ]
  },
  {
   "cell_type": "code",
   "execution_count": 2,
   "metadata": {},
   "outputs": [],
   "source": [
    "car_vid = cv2.VideoCapture(r'C:\\Users\\Binary\\cars.mp4',0)"
   ]
  },
  {
   "cell_type": "markdown",
   "metadata": {},
   "source": [
    "We need a xml file for CascadeClassifier. The xml file is learned and created for different applications. There are many videos showing how to create xml files needed for Cascade classifiers"
   ]
  },
  {
   "cell_type": "code",
   "execution_count": 3,
   "metadata": {},
   "outputs": [],
   "source": [
    "cars_cascade = cv2.CascadeClassifier(r'C:\\Users\\Binary\\haarcascade_car.xml')"
   ]
  },
  {
   "cell_type": "markdown",
   "metadata": {},
   "source": [
    "1. first a frame is read.\n",
    "2. Cars are detected by using detectMultiScale()\n",
    "4. Rectangle is formed for the car co-ordinates\n",
    "5. Text is written over the rectangles\n",
    "6. press enter to quit"
   ]
  },
  {
   "cell_type": "code",
   "execution_count": 5,
   "metadata": {},
   "outputs": [],
   "source": [
    "while True:\n",
    "    \n",
    "    ret, frame = car_vid.read()\n",
    "    cars = cars_cascade.detectMultiScale(frame, 1.15, 4)\n",
    "    for (x, y, w, h) in cars:\n",
    "        cv2.rectangle(frame, (x, y), (x+w,y+h), color=(0, 255, 0), thickness=2)\n",
    "        font = cv2.FONT_HERSHEY_DUPLEX\n",
    "        cv2.putText(frame, 'Car', (x + 6, y - 6), font, 0.5, (0, 0, 255), 1)\n",
    "        cv2.imshow('Car Detection', frame)\n",
    "    if cv2.waitKey(33) == 13:\n",
    "          break\n",
    "            \n",
    "\n",
    "car_vid.release()\n",
    "cv2.destroyAllWindows()"
   ]
  }
 ],
 "metadata": {
  "kernelspec": {
   "display_name": "Python 3",
   "language": "python",
   "name": "python3"
  },
  "language_info": {
   "codemirror_mode": {
    "name": "ipython",
    "version": 3
   },
   "file_extension": ".py",
   "mimetype": "text/x-python",
   "name": "python",
   "nbconvert_exporter": "python",
   "pygments_lexer": "ipython3",
   "version": "3.8.5"
  }
 },
 "nbformat": 4,
 "nbformat_minor": 4
}
