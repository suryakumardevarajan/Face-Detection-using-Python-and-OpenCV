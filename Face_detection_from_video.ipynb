{
 "cells": [
  {
   "cell_type": "markdown",
   "metadata": {},
   "source": [
    "## Face Detection from a video"
   ]
  },
  {
   "cell_type": "code",
   "execution_count": 1,
   "metadata": {},
   "outputs": [],
   "source": [
    "import cv2"
   ]
  },
  {
   "cell_type": "markdown",
   "metadata": {},
   "source": [
    "import this module to include face recognition model"
   ]
  },
  {
   "cell_type": "code",
   "execution_count": 2,
   "metadata": {},
   "outputs": [],
   "source": [
    "import face_recognition"
   ]
  },
  {
   "cell_type": "markdown",
   "metadata": {},
   "source": [
    "define a video capture object, cv2.VideoCapture(filename, index). If you give index 0, it will open the single video source which is the webcam"
   ]
  },
  {
   "cell_type": "code",
   "execution_count": 3,
   "metadata": {},
   "outputs": [],
   "source": [
    "vid = cv2.VideoCapture(r'C:\\Users\\Binary\\output_face.avi',0)"
   ]
  },
  {
   "cell_type": "markdown",
   "metadata": {},
   "source": [
    "Initialising the required variables"
   ]
  },
  {
   "cell_type": "code",
   "execution_count": 4,
   "metadata": {},
   "outputs": [],
   "source": [
    "face_coord = []"
   ]
  },
  {
   "cell_type": "markdown",
   "metadata": {},
   "source": [
    "1. first a frame is read.\n",
    "2. It will be read in BGR format and this changed to RGB format for opencv\n",
    "3. face co-ordinates are read\n",
    "4. Rectangle is formed for the face co=ordinates\n",
    "5. video is shown where the face is recognized and it is written\n",
    "6. press s to quit"
   ]
  },
  {
   "cell_type": "code",
   "execution_count": 5,
   "metadata": {},
   "outputs": [],
   "source": [
    "while True:\n",
    "    \n",
    "    ret, frame = vid.read()\n",
    "    rgb_frame = frame[:, :, ::-1]\n",
    "    face_coord = face_recognition.face_locations(rgb_frame)\n",
    "    for top, right, bottom, left in face_coord:\n",
    "        cv2.rectangle(frame, (left, top), (right, bottom), (0, 255, 255), 2)\n",
    "\n",
    "    cv2.imshow('video',frame)\n",
    "    if cv2.waitKey(25) == 13:\n",
    "        break\n",
    "        \n",
    "# Releasing the video\n",
    "vid.release()\n",
    "cv2.destroyAllWindows()"
   ]
  }
 ],
 "metadata": {
  "kernelspec": {
   "display_name": "Python 3",
   "language": "python",
   "name": "python3"
  },
  "language_info": {
   "codemirror_mode": {
    "name": "ipython",
    "version": 3
   },
   "file_extension": ".py",
   "mimetype": "text/x-python",
   "name": "python",
   "nbconvert_exporter": "python",
   "pygments_lexer": "ipython3",
   "version": "3.8.5"
  }
 },
 "nbformat": 4,
 "nbformat_minor": 4
}
